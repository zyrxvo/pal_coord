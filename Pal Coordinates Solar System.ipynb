{
 "cells": [
  {
   "cell_type": "code",
   "execution_count": null,
   "metadata": {
    "collapsed": false
   },
   "outputs": [],
   "source": [
    "import rebound\n",
    "import numpy as np\n",
    "import pal\n",
    "%matplotlib inline\n",
    "\n",
    "# ****************************************** Runs a simulation ***********************************************\n",
    "# Also calculates the Pal coord at each step while also extracting the cartesian coord at each time step.\n",
    "\n",
    "sim = rebound.Simulation.from_file('ss.bin')\n",
    "sim.move_to_com()\n",
    "\n",
    "earth_orbit = 2.*np.pi # 2π\n",
    "\n",
    "# The max number of Earth orbits to complete in the simulation\n",
    "num_earth_orbits = 1000.0\n",
    "Nsteps = 2**16 # Determines the number of data points in the Pal coordinates\n",
    "Nobjects = len(sim.particles) # Number of celestial bodies in the simulation.\n",
    "Nparams = 7 # Number of orbital parameters [m, a, l, k, h, ix, iy] or [m, x, y, z, vx, vy, vz].\n",
    "\n",
    "t_max = num_earth_orbits*earth_orbit\n",
    "\n",
    "dt_adv = np.linspace(0, t_max, Nsteps, endpoint=False)\n",
    "\n",
    "# For plotting by number of earth orbits (or any other scaling factor).\n",
    "dt_n = dt_adv/earth_orbit\n",
    "\n",
    "cart_coordinates = np.zeros((Nsteps, Nobjects, Nparams))\n",
    "pal_coordinates = np.zeros((Nsteps, Nobjects, Nparams))\n",
    "\n",
    "for i,t in enumerate(dt_adv):\n",
    "    cart_coordinates[i] = pal.extract_cartesian(sim)\n",
    "    pal_coordinates[i] = pal.convert_sim_to_pal(sim)\n",
    "    sim.integrate(t, exact_finish_time=1)\n",
    "\n",
    "print 'Done'"
   ]
  },
  {
   "cell_type": "code",
   "execution_count": null,
   "metadata": {
    "collapsed": true
   },
   "outputs": [],
   "source": []
  }
 ],
 "metadata": {
  "kernelspec": {
   "display_name": "Python 2",
   "language": "python",
   "name": "python2"
  },
  "language_info": {
   "codemirror_mode": {
    "name": "ipython",
    "version": 2
   },
   "file_extension": ".py",
   "mimetype": "text/x-python",
   "name": "python",
   "nbconvert_exporter": "python",
   "pygments_lexer": "ipython2",
   "version": "2.7.14"
  }
 },
 "nbformat": 4,
 "nbformat_minor": 0
}
